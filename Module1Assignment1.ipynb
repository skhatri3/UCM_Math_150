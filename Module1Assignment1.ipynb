{
 "cells": [
  {
   "cell_type": "markdown",
   "id": "a2de5fd9-7a0d-4018-8798-f52ee50cea16",
   "metadata": {},
   "source": [
    "Introduction to using Jupyter Notebooks and JupyterHub\n",
    "\n",
    "This notebook is meant to give you an introduction to using Jupyter. This is a programming platform that we'll be using throughout Math 150 this semester. \n",
    "\n",
    "Jupyter notebooks mix markdown (that's what this cell is -- really, it's just fancy text with a little bit of formatting!) and Python code. You can execute the code in any cell by either clicking the run button above this block, or by pressing Ctrl-Enter or Cmd-Enter. \n",
    "\n",
    "All modules in this class will be done in such a notebook where you will use markdown as your documentation and reporting and the code will be included as well! \n"
   ]
  },
  {
   "cell_type": "markdown",
   "id": "c45117c6-f5a2-44c0-ae67-5aff7141c6fe",
   "metadata": {},
   "source": [
    "The assignment is just you editing and printing hello to Cayce and myself."
   ]
  },
  {
   "cell_type": "code",
   "execution_count": 3,
   "id": "f07dcd23-1075-4327-8ba7-950bc8f99122",
   "metadata": {},
   "outputs": [
    {
     "name": "stdout",
     "output_type": "stream",
     "text": [
      "Hello! We are excited to be teaching Math 150 this semester and to have you in our class\n"
     ]
    }
   ],
   "source": [
    "print(\"Hello! We are excited to be teaching Math 150 this semester and to have you in our class\") "
   ]
  },
  {
   "cell_type": "markdown",
   "id": "80dbd33e-e01a-423e-8d41-97383d76114f",
   "metadata": {},
   "source": [
    "Your job is now to add some code here saying hello back to us. Make sure to run the code as we did above. "
   ]
  }
 ],
 "metadata": {
  "kernelspec": {
   "display_name": "Python 3 (ipykernel)",
   "language": "python",
   "name": "python3"
  },
  "language_info": {
   "codemirror_mode": {
    "name": "ipython",
    "version": 3
   },
   "file_extension": ".py",
   "mimetype": "text/x-python",
   "name": "python",
   "nbconvert_exporter": "python",
   "pygments_lexer": "ipython3",
   "version": "3.11.8"
  }
 },
 "nbformat": 4,
 "nbformat_minor": 5
}
